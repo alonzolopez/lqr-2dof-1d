{
 "cells": [
  {
   "cell_type": "code",
   "execution_count": 1,
   "metadata": {},
   "outputs": [
    {
     "data": {
      "text/html": [
       "        <script type=\"text/javascript\">\n",
       "        window.PlotlyConfig = {MathJaxConfig: 'local'};\n",
       "        if (window.MathJax) {MathJax.Hub.Config({SVG: {font: \"STIX-Web\"}});}\n",
       "        if (typeof require !== 'undefined') {\n",
       "        require.undef(\"plotly\");\n",
       "        requirejs.config({\n",
       "            paths: {\n",
       "                'plotly': ['https://cdn.plot.ly/plotly-latest.min']\n",
       "            }\n",
       "        });\n",
       "        require(['plotly'], function(Plotly) {\n",
       "            window._Plotly = Plotly;\n",
       "        });\n",
       "        }\n",
       "        </script>\n",
       "        "
      ]
     },
     "metadata": {},
     "output_type": "display_data"
    }
   ],
   "source": [
    "import numpy as np\n",
    "import plotly.graph_objects as go\n",
    "import plotly.io as pio\n",
    "pio.renderers.default='notebook'\n",
    "from plotly.offline import download_plotlyjs, init_notebook_mode, plot, iplot\n",
    "init_notebook_mode(connected=True)\n",
    "import plotly.figure_factory as ff\n",
    "import argparse\n",
    "import igraph\n",
    "from igraph import Graph, EdgeSeq\n",
    "np.random.seed(0)"
   ]
  },
  {
   "cell_type": "markdown",
   "metadata": {},
   "source": [
    "# System Dynamics"
   ]
  },
  {
   "cell_type": "code",
   "execution_count": 25,
   "metadata": {},
   "outputs": [],
   "source": [
    "# System Dynamics\n",
    "A = np.array([\n",
    "    [1, 1],\n",
    "    [0, 1]\n",
    "    ])\n",
    "B = np.array([\n",
    "    [1/2],\n",
    "    [1]\n",
    "    ])\n",
    "C = np.eye(2)\n",
    "D = np.zeros((2,1))\n",
    "\n",
    "def step(s, u):\n",
    "    return np.dot(A,s) + np.dot(B,u)\n",
    "\n",
    "\n",
    "# States\n",
    "x = np.zeros(2)\n",
    "x_min = -5\n",
    "x_max = -x_min\n",
    "v_min = -1\n",
    "v_max = -v_min\n",
    "s_f = np.array([[0],[0]])\n",
    "def check_bounds(s):\n",
    "    return np.abs(s[0,0]) < x_max and np.abs(s[1,0]) < v_max\n",
    "def goal_reached(s, s_f, dx=0.1, dv=0.1):\n",
    "    return (np.abs(s[0,0] - s_f[0,0]) < dx) and  (np.abs(s[1,0] - s_f[1,0]) < dv)"
   ]
  },
  {
   "cell_type": "markdown",
   "metadata": {},
   "source": [
    "# Randomized Initial State"
   ]
  },
  {
   "cell_type": "code",
   "execution_count": 26,
   "metadata": {},
   "outputs": [
    {
     "name": "stdout",
     "output_type": "stream",
     "text": [
      "s_i:\n",
      " [[-0.76345201]\n",
      " [ 0.29178823]]\n"
     ]
    }
   ],
   "source": [
    "# Randomized Initial State\n",
    "s_i = np.zeros((2,1)) \n",
    "s_i[0,0] = np.random.uniform(x_min, x_max)\n",
    "s_i[1,0] = np.random.uniform(v_min, v_max)\n",
    "print(\"s_i:\\n\", s_i)"
   ]
  },
  {
   "cell_type": "markdown",
   "metadata": {},
   "source": [
    "# Cost Function"
   ]
  },
  {
   "cell_type": "code",
   "execution_count": 27,
   "metadata": {},
   "outputs": [],
   "source": [
    "Q = np.eye(2)\n",
    "R = 100"
   ]
  },
  {
   "cell_type": "markdown",
   "metadata": {},
   "source": [
    "# Dynamic Programming Solution"
   ]
  },
  {
   "cell_type": "code",
   "execution_count": 23,
   "metadata": {},
   "outputs": [],
   "source": [
    "P_now = Q\n",
    "K_now = 0\n",
    "P_prev = np.zeros((2,2))\n",
    "K_prev = 0\n",
    "\n",
    "while not np.allclose(P_now,P_prev):\n",
    "    P_now = np.copy(P_prev)\n",
    "    K_now = np.copy(K_prev)\n",
    "    P_prev = Q + np.dot(np.transpose(K_now),np.dot(R,K_now)) + np.transpose(A - np.dot(B, K_now))*P_now*(A - np.dot(B, K_now))\n",
    "    K_prev = np.dot(np.linalg.inv(R + np.dot(np.transpose(B), np.dot(P_now, B))), np.dot(np.transpose(B), np.dot(P_now, A)))\n"
   ]
  },
  {
   "cell_type": "code",
   "execution_count": 24,
   "metadata": {},
   "outputs": [
    {
     "name": "stdout",
     "output_type": "stream",
     "text": [
      "P:\n",
      " [[20.5203192   2.2317375 ]\n",
      " [ 2.2317375  16.00610056]]\n",
      "K:\n",
      " [[0.10125687 0.24004417]]\n"
     ]
    }
   ],
   "source": [
    "print(\"P:\\n\", P_prev)\n",
    "print(\"K:\\n\", K_prev)"
   ]
  },
  {
   "cell_type": "code",
   "execution_count": null,
   "metadata": {},
   "outputs": [],
   "source": [
    "def demo(K):\n",
    "    S = [s_i]\n",
    "    E = []\n",
    "    while True:\n",
    "        s_new = step(S[-1],np.dot(-K,S[-1]))\n",
    "        S.append(s_new)\n",
    "        E.append((S[-2],S[-1]))\n",
    "        if goal_reached(s_new, s_f):\n",
    "            return S, E\n",
    "    "
   ]
  }
 ],
 "metadata": {
  "kernelspec": {
   "display_name": "Python 3",
   "language": "python",
   "name": "python3"
  },
  "language_info": {
   "codemirror_mode": {
    "name": "ipython",
    "version": 3
   },
   "file_extension": ".py",
   "mimetype": "text/x-python",
   "name": "python",
   "nbconvert_exporter": "python",
   "pygments_lexer": "ipython3",
   "version": "3.6.9"
  }
 },
 "nbformat": 4,
 "nbformat_minor": 4
}
